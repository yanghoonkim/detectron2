{
 "cells": [
  {
   "cell_type": "code",
   "execution_count": null,
   "metadata": {},
   "outputs": [],
   "source": [
    "from pathlib import Path\n",
    "import json\n",
    "import pandas as pd\n",
    "import pickle as pkl"
   ]
  },
  {
   "cell_type": "code",
   "execution_count": null,
   "metadata": {},
   "outputs": [],
   "source": [
    "BASE_PATH = Path('/home/detectron2/datasets/nia/')\n",
    "IMG_PATH = BASE_PATH / '1.원천데이터'\n",
    "ANNO_PATH = BASE_PATH / '2.라벨링데이터'"
   ]
  },
  {
   "cell_type": "code",
   "execution_count": null,
   "metadata": {},
   "outputs": [],
   "source": [
    "# 가시광 데이터 필터링\n",
    "def is_visible_data(item):\n",
    "    cond = item.match('image_B/*.png*') or item.match('image_F/*.png*') or item.match('image_L/*.png*') or item.match('image_R/*.png*')\n",
    "    return cond"
   ]
  },
  {
   "cell_type": "code",
   "execution_count": null,
   "metadata": {},
   "outputs": [],
   "source": [
    "img_paths = list(IMG_PATH.rglob('*.png'))\n",
    "img_names= [item.name for item in img_paths]\n",
    "\n",
    "anno_paths = list(ANNO_PATH.rglob('*.json'))\n",
    "anno_names= [item.name for item in anno_paths]\n",
    "\n",
    "visible_anno_paths = list(filter(is_visible_data, anno_paths))\n",
    "visible_anno_paths = list(filter(lambda x: '._' not in x.as_posix(), visible_anno_paths))\n",
    "visible_anno_names = [item.name for item in visible_anno_paths]\n",
    "\n",
    "visible_img_paths = list(filter(is_visible_data, img_paths))\n",
    "visible_img_names = [item.name for item in visible_img_paths]\n",
    "\n",
    "visible_anno_names_wo_json = [item.rstrip('.json') for item in visible_anno_names]\n",
    "\n",
    "df_visible_img = pd.DataFrame({'filename': visible_img_names, 'imgpath': visible_img_paths}).set_index('filename')\n",
    "df_visible_anno = pd.DataFrame({'filename': visible_anno_names_wo_json, 'annopath': visible_anno_paths}).set_index('filename')\n",
    "\n",
    "df_visible = pd.concat([df_visible_img, df_visible_anno], axis=1).dropna(how='any')"
   ]
  },
  {
   "cell_type": "code",
   "execution_count": null,
   "metadata": {},
   "outputs": [],
   "source": [
    "# visible 데이터 오류 검출\n",
    "# 가시광 데이터 annotations에서 segmentation이 None으로 표기된 경우들 + len(annotations)==0인 경우들 검출하기\n",
    "# 가시광 데이터 annotations에서 segmentation['coord']['points']가 list가 아니거나 list인데 길이가 0인 경우 검출하기\n",
    "# json 파일에서 필요한 정보만 추출: 'images', 'annotations'\n",
    "img_wo_anno = list()\n",
    "img_wo_seg = list()\n",
    "img_wo_points = list()\n",
    "\n",
    "for item in df_visible.annopath:\n",
    "    error_flag = False\n",
    "    error_flag1 = False\n",
    "    with item.open() as f:\n",
    "        item_json = json.load(f)\n",
    "    \n",
    "    if len(item_json['annotations']) == 0:\n",
    "        img_wo_anno.append(item.name.rstrip('.json'))\n",
    "    else:\n",
    "        for anno in item_json['annotations']:\n",
    "            if anno['segmentation'] is None:\n",
    "                error_flag = True\n",
    "                import ipdb;ipdb.set_trace()\n",
    "                break\n",
    "\n",
    "            if type(anno['segmentation']['coord']['points']) is not list :\n",
    "                error_flag1 = True\n",
    "                break\n",
    "            \n",
    "            else:\n",
    "                if len(anno['segmentation']['coord']['points']) == 0:\n",
    "                    error_flag1 = True\n",
    "                    break\n",
    "        \n",
    "        if error_flag == True:\n",
    "            img_wo_seg.append(item.name.rstrip('.json'))\n",
    "        if error_flag1 == True:\n",
    "            img_wo_points.append(item.name.rstrip('.json'))"
   ]
  },
  {
   "cell_type": "code",
   "execution_count": null,
   "metadata": {},
   "outputs": [],
   "source": [
    "img_w_error = img_wo_anno + img_wo_seg + img_wo_points\n",
    "with open('/home/detectron2/nia/img_w_bug.pkl', 'wb') as f:\n",
    "    pkl.dump(img_w_error, f)"
   ]
  }
 ],
 "metadata": {
  "kernelspec": {
   "display_name": "Python 3",
   "language": "python",
   "name": "python3"
  },
  "language_info": {
   "codemirror_mode": {
    "name": "ipython",
    "version": 3
   },
   "file_extension": ".py",
   "mimetype": "text/x-python",
   "name": "python",
   "nbconvert_exporter": "python",
   "pygments_lexer": "ipython3",
   "version": "3.10.12"
  }
 },
 "nbformat": 4,
 "nbformat_minor": 2
}
